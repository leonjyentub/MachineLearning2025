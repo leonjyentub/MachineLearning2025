{
 "cells": [
  {
   "cell_type": "markdown",
   "metadata": {
    "id": "Y0AxQJeIuR0J"
   },
   "source": [
    "# Simple Diffusion\n",
    "\n",
    "This notebook contains all the code needed to train and run a diffusion model that creates numbers\n",
    "\n",
    "The model will be trained on the MNIST dataset.\n",
    "\n",
    "The model is implemented with PyTorch. If you are using the Kaggle notebook, all dependencies should have been installed already."
   ]
  },
  {
   "cell_type": "markdown",
   "metadata": {},
   "source": [
    "# Overview of Diffusion Models\n",
    "\n",
    "Diffusion models are a class of generative models, which means they generate data which is simliar to the data they were trained on. They are similar to GANs (Generative Adversarial Networks), but diffusion models rely on a process consisting of destroying data by adding noise, and then reversing this noising process to get a new output. There is a forward process, which consists of adding Gaussian noise to the image, and a reverse process, which consists of trying to recover the image by reversing the noising process.\n",
    "\n",
    "\n",
    "Diffusion models essentially train a model to generate a model from noise.\n",
    "\n",
    "There are two parts: the forward noising process and the reverse noising process. \n",
    "\n",
    "The forward noising process noises current images, and these are used to train the model.\n",
    "\n",
    "Here is what the forward noising process looks like:\n",
    "\n",
    "![seven_noise_large.gif](https://i.imgur.com/mjhRi0V.gif)\n",
    "\n",
    "![image.png](https://i.imgur.com/Ac0DY9s.png)\n",
    "\n",
    "The reverse noising process generates images by having a model predict the noise in random noise, and then slowly removes that predicted noise from the image."
   ]
  },
  {
   "cell_type": "markdown",
   "metadata": {
    "id": "pUkCp2M3uR0Q"
   },
   "source": [
    "# Imports"
   ]
  },
  {
   "cell_type": "code",
   "execution_count": 1,
   "metadata": {
    "execution": {
     "iopub.execute_input": "2024-05-22T18:01:56.386013Z",
     "iopub.status.busy": "2024-05-22T18:01:56.385204Z",
     "iopub.status.idle": "2024-05-22T18:02:03.670581Z",
     "shell.execute_reply": "2024-05-22T18:02:03.669425Z",
     "shell.execute_reply.started": "2024-05-22T18:01:56.385959Z"
    },
    "id": "86bZo-F6uR0U",
    "trusted": true
   },
   "outputs": [],
   "source": [
    "import torch\n",
    "import torchvision\n",
    "import torchvision.transforms as transforms\n",
    "import matplotlib.pyplot as plt\n",
    "import numpy as np\n",
    "import torch.nn as nn\n",
    "import torch.nn.functional as F\n",
    "import torch.optim as optim\n",
    "from math import cos, pi\n",
    "from random import randint"
   ]
  },
  {
   "cell_type": "markdown",
   "metadata": {
    "id": "VmvRsAahuR0Z"
   },
   "source": [
    "# Helper functions\n",
    "\n",
    "Contains mostly visualization functions"
   ]
  },
  {
   "cell_type": "code",
   "execution_count": 2,
   "metadata": {
    "execution": {
     "iopub.execute_input": "2024-05-22T18:02:03.676159Z",
     "iopub.status.busy": "2024-05-22T18:02:03.675163Z",
     "iopub.status.idle": "2024-05-22T18:02:03.684385Z",
     "shell.execute_reply": "2024-05-22T18:02:03.683419Z",
     "shell.execute_reply.started": "2024-05-22T18:02:03.676125Z"
    },
    "id": "QWEpFaECuR0a",
    "trusted": true
   },
   "outputs": [],
   "source": [
    "def display_batch(batch, nrow=8, min=None, max=None):\n",
    "    if not min:\n",
    "        min = batch.min()\n",
    "\n",
    "    if not max:\n",
    "        max = batch.max()\n",
    "\n",
    "    batch = (batch - min) / (max - min)\n",
    "    img = torchvision.utils.make_grid(batch, nrow=nrow)\n",
    "    npimg = img.numpy()\n",
    "    plt.imshow(np.transpose(npimg, (1, 2, 0)))"
   ]
  },
  {
   "cell_type": "markdown",
   "metadata": {
    "id": "mtHLV5qNuR0b"
   },
   "source": [
    "# Forward diffusion\n",
    "\n",
    "Contains all the functions we need to noise an image"
   ]
  },
  {
   "cell_type": "code",
   "execution_count": 3,
   "metadata": {
    "execution": {
     "iopub.execute_input": "2024-05-22T18:02:03.690802Z",
     "iopub.status.busy": "2024-05-22T18:02:03.690195Z",
     "iopub.status.idle": "2024-05-22T18:02:03.706691Z",
     "shell.execute_reply": "2024-05-22T18:02:03.705592Z",
     "shell.execute_reply.started": "2024-05-22T18:02:03.690768Z"
    },
    "id": "RSMdqGsduR0c",
    "trusted": true
   },
   "outputs": [],
   "source": [
    "MAX_TIMESTEPS = 1000"
   ]
  },
  {
   "cell_type": "markdown",
   "metadata": {
    "id": "FikzO9FVuR0d"
   },
   "source": [
    "## Epsilon\n",
    "\n",
    "This is the noise that we apply to the image. It is a matrix of values, where\n",
    "each number is a random number. The probability of getting each number is\n",
    "based on a normal distribution; Values closer to zero have a higher chance of\n",
    "getting chosen.\n",
    "\n",
    "The size of the tensor generated is deteremined by tensor_size"
   ]
  },
  {
   "cell_type": "code",
   "execution_count": 4,
   "metadata": {
    "execution": {
     "iopub.execute_input": "2024-05-22T18:02:03.708548Z",
     "iopub.status.busy": "2024-05-22T18:02:03.707987Z",
     "iopub.status.idle": "2024-05-22T18:02:03.720379Z",
     "shell.execute_reply": "2024-05-22T18:02:03.718791Z",
     "shell.execute_reply.started": "2024-05-22T18:02:03.708513Z"
    },
    "id": "aD13d4x5uR0e",
    "trusted": true
   },
   "outputs": [],
   "source": [
    "def epsilon(tensor_size):\n",
    "    std_dev = 0.3 # Sampled values will mostly be between -1 and 1\n",
    "    return torch.randn(tensor_size) * std_dev"
   ]
  },
  {
   "cell_type": "markdown",
   "metadata": {
    "id": "VaI3ALX9uR0f"
   },
   "source": [
    "Let's generate four noise examples, and see what it looks like:"
   ]
  },
  {
   "cell_type": "code",
   "execution_count": 5,
   "metadata": {
    "execution": {
     "iopub.execute_input": "2024-05-22T18:02:03.722477Z",
     "iopub.status.busy": "2024-05-22T18:02:03.722023Z",
     "iopub.status.idle": "2024-05-22T18:02:04.038913Z",
     "shell.execute_reply": "2024-05-22T18:02:04.037850Z",
     "shell.execute_reply.started": "2024-05-22T18:02:03.722434Z"
    },
    "executionInfo": {
     "elapsed": 1489,
     "status": "ok",
     "timestamp": 1715804300677,
     "user": {
      "displayName": "Bacon Erie",
      "userId": "06969671390441274434"
     },
     "user_tz": 240
    },
    "id": "vZOFt0n9uR0g",
    "outputId": "f0106a95-291e-4607-c900-db418c31b43e",
    "trusted": true
   },
   "outputs": [
    {
     "data": {
      "image/png": "[encoded data removed]",
      "text/plain": [
       "<Figure size 640x480 with 1 Axes>"
      ]
     },
     "metadata": {},
     "output_type": "display_data"
    }
   ],
   "source": [
    "random = epsilon((4, 1, 28, 28))\n",
    "\n",
    "display_batch(random)"
   ]
  },
  {
   "cell_type": "markdown",
   "metadata": {
    "id": "olSGOlu3uR0h"
   },
   "source": [
    "## Alpha, beta, and alpha bar\n",
    "\n",
    "In the noise process equation, these variables essentially determine **how much to noise\n",
    "the image** at a particular timestep, t. Lower alpha bar is more noise/less original image.\n",
    "\n",
    "These variables are used in the noising equation, which is shown later. \n",
    "\n",
    "You can modify how alpha bar changes over time to change how quickly the image\n",
    "gets noisy over time; this is called the **noise schedule**.\n",
    "\n",
    "In the original diffusion model paper, the researchers used a simple linear\n",
    "noise schedule.  This is what we will be using in our notebook.\n",
    "\n",
    "However, linear schedules quickly make the images become very noisy, even though we are nowhere near the max timesteps.\n",
    "\n",
    "Instead, you may want to look at other schedules, such as a cosine schedule developed by Nichol and Dhariwal's at OpenAI (https://arxiv.org/abs/2102.09672). \n",
    "\n",
    "A warning if you want to implement the cosine schedule: We've tried to implement the cosine schedule, and we had the variance of our generated image \"explode\", reaching hundreds of thousands. If you want to give cosine schedules a try, make sure you implement everything correctly. \n",
    "\n",
    "You can see tests between linear vs cosine schedule at\n",
    "https://hackmd.io/@BaconErie/lin-vs-cos-schedule (might be a bit complicated)"
   ]
  },
  {
   "cell_type": "markdown",
   "metadata": {},
   "source": [
    "# Alpha and Beta\n",
    "\n",
    "These variables are also a measure of how noisy the image should be at a particular timestep. Since we are using the scheduling method used by OpenAI, we do not use alpha and beta in the forward diffusion process. However, we will need this in the reverse diffusion process."
   ]
  },
  {
   "cell_type": "code",
   "execution_count": 6,
   "metadata": {
    "execution": {
     "iopub.execute_input": "2024-05-22T18:02:04.040675Z",
     "iopub.status.busy": "2024-05-22T18:02:04.040179Z",
     "iopub.status.idle": "2024-05-22T18:02:04.045332Z",
     "shell.execute_reply": "2024-05-22T18:02:04.044512Z",
     "shell.execute_reply.started": "2024-05-22T18:02:04.040645Z"
    },
    "trusted": true
   },
   "outputs": [],
   "source": [
    "def beta(t):\n",
    "    if t == 0:\n",
    "        return torch.tensor(0.0001)\n",
    "    else:\n",
    "        return torch.tensor(0.0199 * t/MAX_TIMESTEPS + 0.0001)"
   ]
  },
  {
   "cell_type": "code",
   "execution_count": 7,
   "metadata": {
    "execution": {
     "iopub.execute_input": "2024-05-22T18:02:04.047034Z",
     "iopub.status.busy": "2024-05-22T18:02:04.046662Z",
     "iopub.status.idle": "2024-05-22T18:02:04.057612Z",
     "shell.execute_reply": "2024-05-22T18:02:04.056363Z",
     "shell.execute_reply.started": "2024-05-22T18:02:04.047004Z"
    },
    "trusted": true
   },
   "outputs": [],
   "source": [
    "def alpha(t):\n",
    "    return 1 - beta(t)"
   ]
  },
  {
   "cell_type": "code",
   "execution_count": 8,
   "metadata": {
    "execution": {
     "iopub.execute_input": "2024-05-22T18:02:04.059121Z",
     "iopub.status.busy": "2024-05-22T18:02:04.058798Z",
     "iopub.status.idle": "2024-05-22T18:02:04.070067Z",
     "shell.execute_reply": "2024-05-22T18:02:04.068728Z",
     "shell.execute_reply.started": "2024-05-22T18:02:04.059095Z"
    },
    "trusted": true
   },
   "outputs": [],
   "source": [
    "def alpha_bar(t):\n",
    "    if type(t) != int:\n",
    "        if type(t) == float:\n",
    "            t = int(t)\n",
    "        else:\n",
    "            t = int(t.item())\n",
    "    list_of_alphas = torch.tensor([alpha(x) for x in range(t+1)])\n",
    "\n",
    "    return torch.cumprod(list_of_alphas, dim=0)[t]"
   ]
  },
  {
   "cell_type": "markdown",
   "metadata": {
    "id": "sfaK6hQiuR0j"
   },
   "source": [
    "## Noise function\n",
    "\n",
    "\n",
    "This is the star of the show, and implements the main noising equation.\n",
    "\n",
    "Given:\n",
    "\n",
    "- Batch of images\n",
    "- Batch of noise\n",
    "- Timestep t\n",
    "\n",
    "It will return a batch of noised images that can then be used to train the denoiser model.\n",
    "\n",
    "The noise function is based on this equation:\n",
    "\n",
    "$$\n",
    "x_t = \\sqrt{\\overline\\alpha}x_0 + \\sqrt{1 - \\overline\\alpha_t}\\epsilon\n",
    "$$\n",
    "\n",
    "Where $x_0$ is the first image, and $x_t$ is the image with the noise added to $t$ timesteps."
   ]
  },
  {
   "cell_type": "code",
   "execution_count": 9,
   "metadata": {
    "execution": {
     "iopub.execute_input": "2024-05-22T18:02:04.076240Z",
     "iopub.status.busy": "2024-05-22T18:02:04.075853Z",
     "iopub.status.idle": "2024-05-22T18:02:04.082974Z",
     "shell.execute_reply": "2024-05-22T18:02:04.081658Z",
     "shell.execute_reply.started": "2024-05-22T18:02:04.076210Z"
    },
    "id": "xB9WMMi_uR0k",
    "trusted": true
   },
   "outputs": [],
   "source": [
    "def noise(image, noise_sample, t):\n",
    "    num_rows = len(image)\n",
    "    num_cols = len(image[0])\n",
    "\n",
    "    result = torch.sqrt(alpha_bar(t)) * image + torch.sqrt(1 - alpha_bar(t)) * noise_sample\n",
    "\n",
    "    return torch.clamp(result, min=-1, max=1)"
   ]
  },
  {
   "cell_type": "markdown",
   "metadata": {
    "id": "d3z4gMytuR0l"
   },
   "source": [
    "To demonstrate, here we load a batch of images from the MNIST dataset and then show the images, the noise, and then the noised images at timestep t/T = 0.75"
   ]
  },
  {
   "cell_type": "code",
   "execution_count": 10,
   "metadata": {
    "execution": {
     "iopub.execute_input": "2024-05-22T18:02:04.085020Z",
     "iopub.status.busy": "2024-05-22T18:02:04.084533Z",
     "iopub.status.idle": "2024-05-22T18:02:07.515508Z",
     "shell.execute_reply": "2024-05-22T18:02:07.514191Z",
     "shell.execute_reply.started": "2024-05-22T18:02:04.084990Z"
    },
    "executionInfo": {
     "elapsed": 2576,
     "status": "ok",
     "timestamp": 1715804330915,
     "user": {
      "displayName": "Bacon Erie",
      "userId": "06969671390441274434"
     },
     "user_tz": 240
    },
    "id": "OIFL0SSzuR0m",
    "outputId": "f22a4c76-d56a-4357-c20e-d407abcd29c8",
    "trusted": true
   },
   "outputs": [
    {
     "name": "stderr",
     "output_type": "stream",
     "text": [
      "Clipping input data to the valid range for imshow with RGB data ([0..1] for floats or [0..255] for integers).\n"
     ]
    },
    {
     "data": {
      "image/png": "[encoded data removed]",
      "text/plain": [
       "<Figure size 640x480 with 1 Axes>"
      ]
     },
     "metadata": {},
     "output_type": "display_data"
    }
   ],
   "source": [
    "# First, we will transform the images a bit so that we can work with them\n",
    "\n",
    "class ScaleToMinusOneToOne(object):\n",
    "    def __call__(self, tensor):\n",
    "        return tensor * 2.0 - 1.0\n",
    "\n",
    "transform = transforms.Compose([\n",
    "    transforms.ToTensor(),          # Convert PIL image to tensor\n",
    "    ScaleToMinusOneToOne()         # Scale tensor values to range from -1 to 1\n",
    "])\n",
    "\n",
    "MNIST_dataset = torchvision.datasets.MNIST(root='drive/My Drive/mnist/MNIST_data/', train=True,\n",
    "                                        download=True, transform=transform)\n",
    "\n",
    "MNIST_dataloader = torch.utils.data.DataLoader(MNIST_dataset, batch_size=4,\n",
    "                                          shuffle=True)\n",
    "\n",
    "# Then get some images\n",
    "images, labels = next(iter(MNIST_dataloader))\n",
    "\n",
    "# Noise them\n",
    "noise_sample = epsilon(images.shape)\n",
    "noised_images = noise(images, noise_sample, torch.tensor(0.4 * MAX_TIMESTEPS))\n",
    "\n",
    "# Take our images, noise, and noised images and put them into a large batch of images, and then display them\n",
    "display = torch.cat((images, noise_sample, noised_images), dim=0)\n",
    "\n",
    "display_batch(display, nrow=4, min=-1, max=1)"
   ]
  },
  {
   "cell_type": "markdown",
   "metadata": {
    "id": "0fGo9unduR0p"
   },
   "source": [
    "# Noise predictor model\n",
    "\n",
    "Now that we can noise images, it's time to write the code that will turn noise back into images.\n",
    "\n",
    "We will do this by predicting the noise in a given image, and slowly remove noise from that image.\n",
    "\n",
    "So first, we need to build a model that can predict the noise."
   ]
  },
  {
   "attachments": {
    "ac09ad8b-3473-4dca-9426-a9badf9600df.jpeg": {
     "image/jpeg": "[encoded data removed]"
    }
   },
   "cell_type": "markdown",
   "metadata": {
    "id": "5yXVE92cuR0q"
   },
   "source": [
    "This is the model that actually predicts the noise, and is the most important component of the reverse diffusion process.\n",
    "\n",
    "In the original diffusion model paper, a modified UNet is used, and state-of-the-art diffusion programs such as Stable Diffusion build upon the UNet model and change out specific components in the model.\n",
    "\n",
    "This notebook, however, will use a more simple model to predict noise. Here is an architecture diagram of the model:\n",
    "\n",
    "\n",
    "![uwunet.jpeg](attachment:ac09ad8b-3473-4dca-9426-a9badf9600df.jpeg)\n",
    "\n",
    "You can see that it is very much similar to a Unet, just with less convolutions and skip connections. It is more simple, and less \"woven\", and so we call this model the Un-woven Unet, or the UwUnet. Admittedly, its design choices are quite arbitrary, and perhaps doesn't exactly deserve a name, but since we are working with pretty small images and simple images, it should give us results that are somewhat distinctive."
   ]
  },
  {
   "cell_type": "markdown",
   "metadata": {},
   "source": [
    "The convolution block is simply a 3x3 kernel convolution that maintains the spatial dimensions of the image while doubling the channels.\n",
    "\n",
    "The embedder convolution concats the convolution output with channels that just contain the number and timestep information, and then runs a convolution over all the channels. This will hopefully help embed data to the model and give it a better prediction.\n",
    "\n",
    "The max pool is max pool. If you don't know what that is, it effect is that it halves the spatial dimensions but most importantly keeps only the most important information from the previous filters.\n",
    "\n",
    "The upconv transpose is just something that will increase the resolution of the image.\n",
    "\n",
    "Skip connections connects data from the beginning to the end. This is a key part of Unet and similar models, and helps to reduce loss quicker. My understanding is that over many convolutions, the original data gets lost, and so the skip connections helps the model \"re-remember\" the original data.\n",
    "\n",
    "Finally, we have a 1x1 Conv that runs through all of the channels to get it back to 1 channel that we can display."
   ]
  },
  {
   "cell_type": "markdown",
   "metadata": {},
   "source": [
    "Here is the code for our model:"
   ]
  },
  {
   "cell_type": "code",
   "execution_count": 11,
   "metadata": {
    "execution": {
     "iopub.execute_input": "2024-05-22T18:02:07.518018Z",
     "iopub.status.busy": "2024-05-22T18:02:07.517568Z",
     "iopub.status.idle": "2024-05-22T18:02:07.538093Z",
     "shell.execute_reply": "2024-05-22T18:02:07.536737Z",
     "shell.execute_reply.started": "2024-05-22T18:02:07.517978Z"
    },
    "executionInfo": {
     "elapsed": 282,
     "status": "ok",
     "timestamp": 1715805756838,
     "user": {
      "displayName": "Bacon Erie",
      "userId": "06969671390441274434"
     },
     "user_tz": 240
    },
    "id": "0NYVF7K6wWNq",
    "trusted": true
   },
   "outputs": [],
   "source": [
    "class ConvBlock(nn.Module):\n",
    "    def __init__(self, in_channels, out_channels):\n",
    "        super(ConvBlock, self).__init__()\n",
    "\n",
    "        self.conv = nn.Sequential(\n",
    "            nn.Conv2d(in_channels=in_channels, out_channels=out_channels, kernel_size=3, stride=1, padding='same'),\n",
    "            nn.ReLU(),\n",
    "            nn.Conv2d(in_channels=out_channels, out_channels=out_channels, kernel_size=3, stride=1, padding='same'),\n",
    "            nn.ReLU()\n",
    "        )\n",
    "\n",
    "    def forward(self, x):\n",
    "        return self.conv(x)\n",
    "\n",
    "class Embedder(nn.Module):\n",
    "    def __init__(self, in_channels, out_channels):\n",
    "        super(Embedder, self).__init__()\n",
    "\n",
    "        self.in_channels = in_channels\n",
    "        self.conv = nn.Conv2d(in_channels=in_channels+2, out_channels=out_channels, kernel_size=3, stride=1, padding='same')\n",
    "        self.relu = nn.ReLU()\n",
    "\n",
    "    def forward(self, x, t_T, label_tensor):\n",
    "        timestep_channel = torch.full((x.shape[0], 1, x.shape[2], x.shape[3]), fill_value=t_T, dtype=torch.float32, device=x.device, requires_grad=True)\n",
    "\n",
    "        label_filled = []\n",
    "        for label in label_tensor:\n",
    "            label_filled.append(torch.full((1, x.shape[2], x.shape[3]), fill_value=label, dtype=torch.float32, device=x.device, requires_grad=True))\n",
    "\n",
    "        label_filled_channel = torch.stack(label_filled)\n",
    "\n",
    "        conv_in = torch.cat((x, timestep_channel, label_filled_channel), dim=1)\n",
    "\n",
    "        return self.relu(self.conv(conv_in))\n",
    "\n",
    "class NoisePredictor(nn.Module):\n",
    "    def __init__(self):\n",
    "        super(NoisePredictor, self).__init__()\n",
    "        self.conv1 = ConvBlock(in_channels=1, out_channels=16)\n",
    "        self.embedder1 = Embedder(in_channels=16, out_channels=16)\n",
    "\n",
    "        self.max_pool1 = nn.MaxPool2d(2)\n",
    "\n",
    "        # Images should now be 16x14x14\n",
    "\n",
    "        self.conv2 = ConvBlock(in_channels=16, out_channels=32) # Doubles channel\n",
    "        self.embedder2 = Embedder(in_channels=32, out_channels=32)\n",
    "\n",
    "        self.max_pool2 = nn.MaxPool2d(2) # Halves dimension\n",
    "\n",
    "        # Images should now be 32x7x7\n",
    "\n",
    "        self.conv3 = ConvBlock(in_channels=32, out_channels=64)\n",
    "        self.embedder3 = Embedder(in_channels=64, out_channels=64)\n",
    "\n",
    "\n",
    "        # UPSAMPLING AND CONV #\n",
    "        # Upsample in channels are double the out channels because we concat\n",
    "        # the outputs from the decoder blocks\n",
    "\n",
    "        self.upconv1 = nn.ConvTranspose2d(64, 32, kernel_size=2, stride=2)\n",
    "        # 32x14x14\n",
    "        self.conv4 = ConvBlock(in_channels=64, out_channels=32)\n",
    "        self.embedder4 = Embedder(in_channels=32, out_channels=32)\n",
    "\n",
    "\n",
    "        self.upconv2 = nn.ConvTranspose2d(32, 16, kernel_size=2, stride=2)\n",
    "        # 16x28x28\n",
    "        self.conv5 = ConvBlock(in_channels=32, out_channels=16)\n",
    "        self.embedder5 = Embedder(in_channels=16, out_channels=16)\n",
    "\n",
    "        # Final 1x1 Conv to reduce channels\n",
    "        self.channel_reduction = nn.Conv2d(in_channels=16, out_channels=1, kernel_size=1, stride=1, padding=0)\n",
    "\n",
    "    def forward(self, x, t_T, number):\n",
    "        conv1_out = self.embedder1(self.conv1(x), t_T, number)\n",
    "\n",
    "        conv2_out = self.embedder2(self.conv2(self.max_pool1(conv1_out)), t_T, number)\n",
    "        conv3_out = self.embedder3(self.conv3(self.max_pool2(conv2_out)), t_T, number)\n",
    "\n",
    "        conv4_in = torch.cat((self.upconv1(conv3_out), conv2_out), dim=1)\n",
    "        conv4_out = self.embedder4(self.conv4(conv4_in), t_T, number)\n",
    "\n",
    "        conv5_in = torch.cat((self.upconv2(conv4_out), conv1_out), dim=1)\n",
    "        conv5_out = self.embedder5(self.conv5(conv5_in), t_T, number)\n",
    "\n",
    "        single_channel = self.channel_reduction(conv5_out)\n",
    "\n",
    "        return torch.tanh(single_channel)"
   ]
  },
  {
   "cell_type": "markdown",
   "metadata": {
    "id": "Qs3o8knXuR0t"
   },
   "source": [
    "Let's test the model to make sure the input and output dimensions match.\n",
    "\n",
    "And, just for fun, let's look at the input images and the output images. Since the model hasn't been trained, all the parameters are random, and so the output images are completely useless."
   ]
  },
  {
   "cell_type": "code",
   "execution_count": 12,
   "metadata": {
    "execution": {
     "iopub.execute_input": "2024-05-22T18:02:07.540454Z",
     "iopub.status.busy": "2024-05-22T18:02:07.540106Z",
     "iopub.status.idle": "2024-05-22T18:02:08.026111Z",
     "shell.execute_reply": "2024-05-22T18:02:08.024608Z",
     "shell.execute_reply.started": "2024-05-22T18:02:07.540424Z"
    },
    "executionInfo": {
     "elapsed": 416,
     "status": "ok",
     "timestamp": 1715805767186,
     "user": {
      "displayName": "Bacon Erie",
      "userId": "06969671390441274434"
     },
     "user_tz": 240
    },
    "id": "stcft5I-uR0t",
    "outputId": "bd81d6bd-7d58-4fd2-ff7a-58b24e283c42",
    "trusted": true
   },
   "outputs": [
    {
     "name": "stdout",
     "output_type": "stream",
     "text": [
      "torch.Size([4, 1, 28, 28])\n",
      "torch.Size([4, 1, 28, 28])\n"
     ]
    },
    {
     "data": {
      "image/png": "[encoded data removed]",
      "text/plain": [
       "<Figure size 640x480 with 1 Axes>"
      ]
     },
     "metadata": {},
     "output_type": "display_data"
    }
   ],
   "source": [
    "shape_test = NoisePredictor() # Create a new NoisePredictor model\n",
    "\n",
    "images, labels = next(iter(MNIST_dataloader)) # We will get some images using the dataloader defined above\n",
    "\n",
    "output = shape_test(images, torch.tensor(0.0), labels.to(torch.float32))\n",
    "\n",
    "# Print the shapes of the input images and output\n",
    "# They should match\n",
    "print(images.shape)\n",
    "print(output.shape)\n",
    "\n",
    "display = torch.cat((images, output), dim=0)\n",
    "\n",
    "display_batch(display, nrow=4, min=-1, max=1)"
   ]
  },
  {
   "cell_type": "markdown",
   "metadata": {
    "id": "NvlSBrXOuR0v"
   },
   "source": [
    "# Training\n",
    "\n",
    "Before we can use the diffusion model, we have to train the noise predictor."
   ]
  },
  {
   "cell_type": "markdown",
   "metadata": {
    "id": "lBc7RXrcuR0w"
   },
   "source": [
    "## Getting the data\n",
    "\n",
    "We will use the MNIST dataset to train our model. We will noise the images later on when we train the model."
   ]
  },
  {
   "cell_type": "code",
   "execution_count": 13,
   "metadata": {
    "execution": {
     "iopub.execute_input": "2024-05-22T18:02:08.028252Z",
     "iopub.status.busy": "2024-05-22T18:02:08.027896Z",
     "iopub.status.idle": "2024-05-22T18:02:08.129259Z",
     "shell.execute_reply": "2024-05-22T18:02:08.128012Z",
     "shell.execute_reply.started": "2024-05-22T18:02:08.028218Z"
    },
    "executionInfo": {
     "elapsed": 3,
     "status": "ok",
     "timestamp": 1715805771263,
     "user": {
      "displayName": "Bacon Erie",
      "userId": "06969671390441274434"
     },
     "user_tz": 240
    },
    "id": "PNT0Bzd4uR0x",
    "trusted": true
   },
   "outputs": [],
   "source": [
    "class ScaleToMinusOneToOne(object):\n",
    "    def __call__(self, tensor):\n",
    "        return tensor * 2.0 - 1.0\n",
    "\n",
    "transform = transforms.Compose([\n",
    "    transforms.ToTensor(),          # Convert PIL image to tensor\n",
    "    ScaleToMinusOneToOne()         # Scale tensor values to range from -1 to 1\n",
    "])\n",
    "\n",
    "trainset = torchvision.datasets.MNIST(root='drive/My Drive/mnist/MNIST_data/', train=True,\n",
    "                                        download=True, transform=transform)\n",
    "\n",
    "trainloader = torch.utils.data.DataLoader(trainset, batch_size=16,\n",
    "                                          shuffle=True)\n",
    "\n",
    "\n",
    "\n",
    "testset = torchvision.datasets.MNIST(root='drive/My Drive/mnist/MNIST_data/', train=False,\n",
    "                                        download=True, transform=transform)\n",
    "\n",
    "testloader = torch.utils.data.DataLoader(testset, batch_size=16,\n",
    "                                          shuffle=False)"
   ]
  },
  {
   "cell_type": "markdown",
   "metadata": {
    "id": "TiMiaOoruR0y"
   },
   "source": [
    "# Create a model instance"
   ]
  },
  {
   "cell_type": "code",
   "execution_count": 14,
   "metadata": {
    "execution": {
     "iopub.execute_input": "2024-05-22T18:02:08.130731Z",
     "iopub.status.busy": "2024-05-22T18:02:08.130377Z",
     "iopub.status.idle": "2024-05-22T18:02:08.142747Z",
     "shell.execute_reply": "2024-05-22T18:02:08.141607Z",
     "shell.execute_reply.started": "2024-05-22T18:02:08.130701Z"
    },
    "executionInfo": {
     "elapsed": 5,
     "status": "ok",
     "timestamp": 1715805773606,
     "user": {
      "displayName": "Bacon Erie",
      "userId": "06969671390441274434"
     },
     "user_tz": 240
    },
    "id": "nMQiXC8tuR0y",
    "trusted": true
   },
   "outputs": [],
   "source": [
    "self_trained_model = NoisePredictor()"
   ]
  },
  {
   "cell_type": "markdown",
   "metadata": {
    "id": "JRd43N2duR0z"
   },
   "source": [
    "# Loss function and optimizer\n",
    "\n",
    "We used MSE loss and stochastic gradient descent to train the model. You can experiment with other loss functions and see how that changes the accuracy of the model."
   ]
  },
  {
   "cell_type": "code",
   "execution_count": 15,
   "metadata": {
    "execution": {
     "iopub.execute_input": "2024-05-22T18:02:08.145268Z",
     "iopub.status.busy": "2024-05-22T18:02:08.144833Z",
     "iopub.status.idle": "2024-05-22T18:02:08.152177Z",
     "shell.execute_reply": "2024-05-22T18:02:08.150872Z",
     "shell.execute_reply.started": "2024-05-22T18:02:08.145236Z"
    },
    "executionInfo": {
     "elapsed": 10,
     "status": "ok",
     "timestamp": 1715805775933,
     "user": {
      "displayName": "Bacon Erie",
      "userId": "06969671390441274434"
     },
     "user_tz": 240
    },
    "id": "_8O8X6pHuR00",
    "trusted": true
   },
   "outputs": [],
   "source": [
    "criterion = nn.MSELoss()\n",
    "optimizer = optim.SGD(self_trained_model.parameters(), lr=0.001, momentum=0.9)"
   ]
  },
  {
   "cell_type": "markdown",
   "metadata": {
    "id": "j3VpYghxuR01"
   },
   "source": [
    "## Training loop\n",
    "\n",
    "Finally, here is the code that actually trains the model.\n",
    "\n",
    "I've already trained a model, so I've disabled the training code. If you are running this notebook on your own, change the DO_TRAIN variable to true."
   ]
  },
  {
   "cell_type": "code",
   "execution_count": 16,
   "metadata": {
    "execution": {
     "iopub.execute_input": "2024-05-22T18:02:08.154360Z",
     "iopub.status.busy": "2024-05-22T18:02:08.153859Z",
     "iopub.status.idle": "2024-05-22T18:02:08.164533Z",
     "shell.execute_reply": "2024-05-22T18:02:08.162548Z",
     "shell.execute_reply.started": "2024-05-22T18:02:08.154320Z"
    },
    "trusted": true
   },
   "outputs": [],
   "source": [
    "DO_TRAIN = False\n",
    "WEIGHTS_OUTPUT_FILE = 'linear_schedule.pt'"
   ]
  },
  {
   "cell_type": "code",
   "execution_count": 17,
   "metadata": {
    "execution": {
     "iopub.execute_input": "2024-05-22T18:02:08.166868Z",
     "iopub.status.busy": "2024-05-22T18:02:08.166406Z",
     "iopub.status.idle": "2024-05-22T18:02:08.179101Z",
     "shell.execute_reply": "2024-05-22T18:02:08.177643Z",
     "shell.execute_reply.started": "2024-05-22T18:02:08.166829Z"
    },
    "id": "01m7BNxiuR02",
    "outputId": "94d8906f-140a-4bc7-ad78-1dfbd4691ee4",
    "trusted": true
   },
   "outputs": [],
   "source": [
    "if DO_TRAIN:\n",
    "    device = torch.device(\"cuda\" if torch.cuda.is_available() else \"cpu\")\n",
    "    print(f'device: {device}')\n",
    "    self_trained_model.to(device)\n",
    "    for epoch in range(30):  # loop over the dataset multiple times\n",
    "\n",
    "        running_loss = 0.0\n",
    "        for i, data in enumerate(trainloader, 0):\n",
    "            # Get the images\n",
    "            images, labels = data\n",
    "\n",
    "            images = images.to(device) # Move to the GPU if GPU is availible\n",
    "\n",
    "            # Choose a random timestep\n",
    "            timestep = randint(0, MAX_TIMESTEPS+1)\n",
    "\n",
    "            # Noise the images, and also save the noise\n",
    "            sample_noise = epsilon(images.shape).to(device)\n",
    "            noised_images = noise(images, sample_noise, torch.tensor(timestep)).to(device)\n",
    "\n",
    "            # zero the parameter gradients\n",
    "            optimizer.zero_grad()\n",
    "\n",
    "            # forward + backward + optimize\n",
    "            predicted_noise = self_trained_model(noised_images, torch.tensor(timestep/MAX_TIMESTEPS), labels).to(device)\n",
    "            loss = criterion(predicted_noise, sample_noise).to(device)\n",
    "            loss.backward()\n",
    "            optimizer.step()\n",
    "\n",
    "            # print statistics\n",
    "            running_loss += loss.item()\n",
    "            if i % 2000 == 1999:    # print every 2000 mini-batches\n",
    "                print('[%d, %5d] loss: %.3f' %\n",
    "                      (epoch + 1, i + 1, running_loss / 2000))\n",
    "                running_loss = 0.0\n",
    "\n",
    "    print('Finished Training')\n",
    "\n",
    "    # Save the model\n",
    "    torch.save(self_trained_model.state_dict(), WEIGHTS_OUTPUT_FILE)\n"
   ]
  },
  {
   "cell_type": "markdown",
   "metadata": {
    "id": "pHiXtBNUuR03"
   },
   "source": [
    "Let's test the model!\n",
    "\n",
    "If you trained the model yourself, the code will automatically use the model you trained. Otherwise, it will use a model we trained before hand."
   ]
  },
  {
   "cell_type": "code",
   "execution_count": 18,
   "metadata": {
    "execution": {
     "iopub.execute_input": "2024-05-22T18:02:08.181175Z",
     "iopub.status.busy": "2024-05-22T18:02:08.180788Z",
     "iopub.status.idle": "2024-05-22T18:02:08.218763Z",
     "shell.execute_reply": "2024-05-22T18:02:08.217886Z",
     "shell.execute_reply.started": "2024-05-22T18:02:08.181145Z"
    },
    "trusted": true
   },
   "outputs": [
    {
     "ename": "FileNotFoundError",
     "evalue": "[Errno 2] No such file or directory: 'uwunet_noise_predictor_100_epochs_linear_schedule.pt'",
     "output_type": "error",
     "traceback": [
      "\u001b[1;31m---------------------------------------------------------------------------\u001b[0m",
      "\u001b[1;31mFileNotFoundError\u001b[0m                         Traceback (most recent call last)",
      "Cell \u001b[1;32mIn[18], line 11\u001b[0m\n\u001b[0;32m      8\u001b[0m \u001b[38;5;28;01melse\u001b[39;00m:\n\u001b[0;32m      9\u001b[0m     map_location \u001b[38;5;241m=\u001b[39m \u001b[38;5;124m'\u001b[39m\u001b[38;5;124mcpu\u001b[39m\u001b[38;5;124m'\u001b[39m\n\u001b[1;32m---> 11\u001b[0m status \u001b[38;5;241m=\u001b[39m noise_predictor\u001b[38;5;241m.\u001b[39mload_state_dict(\u001b[43mtorch\u001b[49m\u001b[38;5;241;43m.\u001b[39;49m\u001b[43mload\u001b[49m\u001b[43m(\u001b[49m\u001b[38;5;124;43m'\u001b[39;49m\u001b[38;5;124;43muwunet_noise_predictor_100_epochs_linear_schedule.pt\u001b[39;49m\u001b[38;5;124;43m'\u001b[39;49m\u001b[43m,\u001b[49m\u001b[43m \u001b[49m\u001b[43mmap_location\u001b[49m\u001b[38;5;241;43m=\u001b[39;49m\u001b[43mmap_location\u001b[49m\u001b[43m)\u001b[49m) \u001b[38;5;66;03m# Pretrained model\u001b[39;00m\n\u001b[0;32m     12\u001b[0m \u001b[38;5;28mprint\u001b[39m(\u001b[38;5;124m'\u001b[39m\u001b[38;5;124mUsing pretrained model!\u001b[39m\u001b[38;5;124m'\u001b[39m)\n\u001b[0;32m     13\u001b[0m \u001b[38;5;28mprint\u001b[39m(\u001b[38;5;124m'\u001b[39m\u001b[38;5;124mLoading status: \u001b[39m\u001b[38;5;124m'\u001b[39m, status)\n",
      "File \u001b[1;32mc:\\Users\\leonjye\\anaconda3\\envs\\pytorchMLBase\\lib\\site-packages\\torch\\serialization.py:791\u001b[0m, in \u001b[0;36mload\u001b[1;34m(f, map_location, pickle_module, weights_only, **pickle_load_args)\u001b[0m\n\u001b[0;32m    788\u001b[0m \u001b[38;5;28;01mif\u001b[39;00m \u001b[38;5;124m'\u001b[39m\u001b[38;5;124mencoding\u001b[39m\u001b[38;5;124m'\u001b[39m \u001b[38;5;129;01mnot\u001b[39;00m \u001b[38;5;129;01min\u001b[39;00m pickle_load_args\u001b[38;5;241m.\u001b[39mkeys():\n\u001b[0;32m    789\u001b[0m     pickle_load_args[\u001b[38;5;124m'\u001b[39m\u001b[38;5;124mencoding\u001b[39m\u001b[38;5;124m'\u001b[39m] \u001b[38;5;241m=\u001b[39m \u001b[38;5;124m'\u001b[39m\u001b[38;5;124mutf-8\u001b[39m\u001b[38;5;124m'\u001b[39m\n\u001b[1;32m--> 791\u001b[0m \u001b[38;5;28;01mwith\u001b[39;00m \u001b[43m_open_file_like\u001b[49m\u001b[43m(\u001b[49m\u001b[43mf\u001b[49m\u001b[43m,\u001b[49m\u001b[43m \u001b[49m\u001b[38;5;124;43m'\u001b[39;49m\u001b[38;5;124;43mrb\u001b[39;49m\u001b[38;5;124;43m'\u001b[39;49m\u001b[43m)\u001b[49m \u001b[38;5;28;01mas\u001b[39;00m opened_file:\n\u001b[0;32m    792\u001b[0m     \u001b[38;5;28;01mif\u001b[39;00m _is_zipfile(opened_file):\n\u001b[0;32m    793\u001b[0m         \u001b[38;5;66;03m# The zipfile reader is going to advance the current file position.\u001b[39;00m\n\u001b[0;32m    794\u001b[0m         \u001b[38;5;66;03m# If we want to actually tail call to torch.jit.load, we need to\u001b[39;00m\n\u001b[0;32m    795\u001b[0m         \u001b[38;5;66;03m# reset back to the original position.\u001b[39;00m\n\u001b[0;32m    796\u001b[0m         orig_position \u001b[38;5;241m=\u001b[39m opened_file\u001b[38;5;241m.\u001b[39mtell()\n",
      "File \u001b[1;32mc:\\Users\\leonjye\\anaconda3\\envs\\pytorchMLBase\\lib\\site-packages\\torch\\serialization.py:271\u001b[0m, in \u001b[0;36m_open_file_like\u001b[1;34m(name_or_buffer, mode)\u001b[0m\n\u001b[0;32m    269\u001b[0m \u001b[38;5;28;01mdef\u001b[39;00m \u001b[38;5;21m_open_file_like\u001b[39m(name_or_buffer, mode):\n\u001b[0;32m    270\u001b[0m     \u001b[38;5;28;01mif\u001b[39;00m _is_path(name_or_buffer):\n\u001b[1;32m--> 271\u001b[0m         \u001b[38;5;28;01mreturn\u001b[39;00m \u001b[43m_open_file\u001b[49m\u001b[43m(\u001b[49m\u001b[43mname_or_buffer\u001b[49m\u001b[43m,\u001b[49m\u001b[43m \u001b[49m\u001b[43mmode\u001b[49m\u001b[43m)\u001b[49m\n\u001b[0;32m    272\u001b[0m     \u001b[38;5;28;01melse\u001b[39;00m:\n\u001b[0;32m    273\u001b[0m         \u001b[38;5;28;01mif\u001b[39;00m \u001b[38;5;124m'\u001b[39m\u001b[38;5;124mw\u001b[39m\u001b[38;5;124m'\u001b[39m \u001b[38;5;129;01min\u001b[39;00m mode:\n",
      "File \u001b[1;32mc:\\Users\\leonjye\\anaconda3\\envs\\pytorchMLBase\\lib\\site-packages\\torch\\serialization.py:252\u001b[0m, in \u001b[0;36m_open_file.__init__\u001b[1;34m(self, name, mode)\u001b[0m\n\u001b[0;32m    251\u001b[0m \u001b[38;5;28;01mdef\u001b[39;00m \u001b[38;5;21m__init__\u001b[39m(\u001b[38;5;28mself\u001b[39m, name, mode):\n\u001b[1;32m--> 252\u001b[0m     \u001b[38;5;28msuper\u001b[39m()\u001b[38;5;241m.\u001b[39m\u001b[38;5;21m__init__\u001b[39m(\u001b[38;5;28;43mopen\u001b[39;49m\u001b[43m(\u001b[49m\u001b[43mname\u001b[49m\u001b[43m,\u001b[49m\u001b[43m \u001b[49m\u001b[43mmode\u001b[49m\u001b[43m)\u001b[49m)\n",
      "\u001b[1;31mFileNotFoundError\u001b[0m: [Errno 2] No such file or directory: 'uwunet_noise_predictor_100_epochs_linear_schedule.pt'"
     ]
    }
   ],
   "source": [
    "if DO_TRAIN:\n",
    "    noise_predictor = self_trained_model\n",
    "else:\n",
    "    noise_predictor = NoisePredictor()\n",
    "\n",
    "    if torch.cuda.is_available():\n",
    "        map_location = 'cuda'\n",
    "    else:\n",
    "        map_location = 'cpu'\n",
    "\n",
    "    status = noise_predictor.load_state_dict(torch.load('uwunet_noise_predictor_100_epochs_linear_schedule.pt', map_location=map_location)) # Pretrained model\n",
    "    print('Using pretrained model!')\n",
    "    print('Loading status: ', status)"
   ]
  },
  {
   "cell_type": "code",
   "execution_count": null,
   "metadata": {
    "execution": {
     "iopub.execute_input": "2024-05-22T18:02:08.220977Z",
     "iopub.status.busy": "2024-05-22T18:02:08.219997Z",
     "iopub.status.idle": "2024-05-22T18:02:08.675267Z",
     "shell.execute_reply": "2024-05-22T18:02:08.674099Z",
     "shell.execute_reply.started": "2024-05-22T18:02:08.220942Z"
    },
    "executionInfo": {
     "elapsed": 868,
     "status": "ok",
     "timestamp": 1715805640234,
     "user": {
      "displayName": "Bacon Erie",
      "userId": "06969671390441274434"
     },
     "user_tz": 240
    },
    "id": "ZNUa3aN7uR04",
    "outputId": "396fecbf-fbd2-433b-a2f2-7748da4ee74a",
    "trusted": true
   },
   "outputs": [],
   "source": [
    "images, labels = next(iter(MNIST_dataloader))\n",
    "noise_predictor.to('cpu')\n",
    "noise_sample = epsilon(images.shape)\n",
    "t_T = 0.75\n",
    "noised_images = noise(images, noise_sample, torch.tensor(t_T * MAX_TIMESTEPS))\n",
    "predicted_noise = noise_predictor(noised_images, torch.tensor(t_T),labels)\n",
    "diff = predicted_noise - noise_sample\n",
    "\n",
    "\n",
    "display = torch.cat((images, noised_images, noise_sample, predicted_noise, diff), dim=0)\n",
    "display_batch(display, nrow=4)"
   ]
  },
  {
   "cell_type": "markdown",
   "metadata": {},
   "source": [
    "Each row means the following:\n",
    "1. Original image\n",
    "2. Noised image\n",
    "3. Actual noise used\n",
    "4. Predicted noise\n",
    "5. Difference between predicted noise and actual noise"
   ]
  },
  {
   "cell_type": "markdown",
   "metadata": {
    "id": "uSZ6AyBauR04"
   },
   "source": [
    "# Final Denoising "
   ]
  },
  {
   "cell_type": "markdown",
   "metadata": {},
   "source": [
    "Finally, we will implement the denoising code and try to generate some images. "
   ]
  },
  {
   "cell_type": "markdown",
   "metadata": {},
   "source": [
    "First, we will write our denoising function, which takes in the previous image, the predicted noise, as well as the noise timestep the image currently has.\n",
    "\n",
    "The denoise function removes noise slowly, following the cosine schedule; it does not remove all the noise predicted by the model.\n",
    "\n",
    "The denoise function implements the following formula:\n",
    "\n",
    "$$\n",
    "x_{t-1} = \\frac{1}{\\sqrt{\\alpha_t}} \\left(x_t - \\frac{\\beta_t}{\\sqrt{1 - \\overline\\alpha}} \\epsilon_{\\theta}(x_t, t) \\right) + \\sqrt{\\beta_t}\\epsilon\n",
    "$$\n",
    "\n",
    "Where $\\epsilon_{\\theta}(x_t, t)$ is our model's predicted noise given the previous image $x_t$ and the current timestep $t$\n",
    "\n",
    "This formula looks super complicated. However, if we look at it, it seems like we are subtracting the current image by the predicted noise times something. The other factor then is based on the beta and alpha, or the schedule we used. We then multiply the more clearer image by some amount and then mix it with a little bit more noise.\n",
    "\n",
    "The little bit more noise, $\\sqrt{\\beta_t}\\epsilon$, is not added at the last timestep, or when $t = 0$, because then we won't be able to remove it."
   ]
  },
  {
   "cell_type": "code",
   "execution_count": null,
   "metadata": {
    "execution": {
     "iopub.execute_input": "2024-05-22T18:02:08.677717Z",
     "iopub.status.busy": "2024-05-22T18:02:08.676729Z",
     "iopub.status.idle": "2024-05-22T18:02:08.684732Z",
     "shell.execute_reply": "2024-05-22T18:02:08.683723Z",
     "shell.execute_reply.started": "2024-05-22T18:02:08.677653Z"
    },
    "trusted": true
   },
   "outputs": [],
   "source": [
    "def denoise(previous_image, predicted_noise, timestep):\n",
    "    a_t = alpha(timestep)\n",
    "    b_t = beta(timestep)\n",
    "\n",
    "    alpha_bar_t = alpha_bar(timestep)\n",
    "\n",
    "    alpha_sqrt_inv = 1 / torch.sqrt(a_t)\n",
    "\n",
    "    remove_amount = b_t / torch.sqrt(1 - alpha_bar_t)\n",
    "    noise_to_remove = predicted_noise * remove_amount\n",
    "\n",
    "    if timestep == 0:\n",
    "        added_noise = 0\n",
    "    else:\n",
    "        added_noise = epsilon(previous_image.shape) * torch.sqrt(b_t)\n",
    "\n",
    "    result =  alpha_sqrt_inv * (previous_image - noise_to_remove) + added_noise\n",
    "\n",
    "    return result"
   ]
  },
  {
   "cell_type": "markdown",
   "metadata": {},
   "source": [
    "Let's first test this code on some manually noised images. Here, I take an image from the MNIST dataset, noise it to a t/T value of 0.5, and then slowly denoise.\n",
    "\n",
    "We'll sample images every 0.1 t/T and see how the image changes over time."
   ]
  },
  {
   "cell_type": "code",
   "execution_count": null,
   "metadata": {
    "execution": {
     "iopub.execute_input": "2024-05-22T18:02:08.687143Z",
     "iopub.status.busy": "2024-05-22T18:02:08.686132Z",
     "iopub.status.idle": "2024-05-22T18:02:13.467144Z",
     "shell.execute_reply": "2024-05-22T18:02:13.465934Z",
     "shell.execute_reply.started": "2024-05-22T18:02:08.687112Z"
    },
    "trusted": true
   },
   "outputs": [],
   "source": [
    "starting_t_T = 0.5 # Play around with this value!\n",
    "\n",
    "images, labels = next(iter(MNIST_dataloader))\n",
    "\n",
    "image = images[0].unsqueeze(0)\n",
    "label = labels[0].unsqueeze(0)\n",
    "\n",
    "print('Number is ' + str(label.item()))\n",
    "\n",
    "noise_sample = epsilon(image.shape)\n",
    "noised_image = noise(image, noise_sample, starting_t_T*MAX_TIMESTEPS)\n",
    "\n",
    "display = [noised_image]\n",
    "\n",
    "t_T_label = 't/T: '\n",
    "\n",
    "for timestep in range(int(starting_t_T*MAX_TIMESTEPS), 0, -1):\n",
    "    predicted_noise = noise_predictor(noised_image, torch.tensor(timestep/MAX_TIMESTEPS), label)\n",
    "    slightly_less_noisy = denoise(noised_image, predicted_noise, timestep)\n",
    "\n",
    "    if timestep/MAX_TIMESTEPS * 100 % 10 == 0:\n",
    "        # Every 0.1 t/T intervals, add the image to the display so that we can look at it later.\n",
    "        display.append(slightly_less_noisy)\n",
    "\n",
    "        t_T_label += str(format(timestep/MAX_TIMESTEPS, '.1f'))\n",
    "\n",
    "        t_T_label += ', '\n",
    "\n",
    "    noised_image = slightly_less_noisy\n",
    "\n",
    "display.append(noised_image)\n",
    "\n",
    "t_T_label += str(format(1/MAX_TIMESTEPS, '.1f'))\n",
    "\n",
    "display_tensor = torch.cat(display, dim=0)\n",
    "\n",
    "print(t_T_label)\n",
    "display_batch(display_tensor, min=-1, max=1)"
   ]
  },
  {
   "cell_type": "markdown",
   "metadata": {},
   "source": [
    "Let's finally try to generate some numbers! We will essentially do the same thing as the above code, except instead of starting from a noised image, we will start from pure noise."
   ]
  },
  {
   "cell_type": "code",
   "execution_count": null,
   "metadata": {
    "execution": {
     "iopub.execute_input": "2024-05-22T18:02:13.469559Z",
     "iopub.status.busy": "2024-05-22T18:02:13.469022Z",
     "iopub.status.idle": "2024-05-22T18:02:27.748285Z",
     "shell.execute_reply": "2024-05-22T18:02:27.746774Z",
     "shell.execute_reply.started": "2024-05-22T18:02:13.469517Z"
    },
    "trusted": true
   },
   "outputs": [],
   "source": [
    "number_to_generate = 7 # Play around with this value!\n",
    "\n",
    "noise_sample = epsilon(image.shape)\n",
    "noised_image = noise_sample\n",
    "\n",
    "display = [noised_image]\n",
    "\n",
    "t_T_label = 't/T: '\n",
    "\n",
    "for timestep in range(int(MAX_TIMESTEPS-1),0, -1):\n",
    "    predicted_noise = noise_predictor(noised_image, torch.tensor(timestep/MAX_TIMESTEPS), torch.tensor(number_to_generate).unsqueeze(0))\n",
    "    slightly_less_noisy = denoise(noised_image, predicted_noise, timestep)\n",
    "\n",
    "    if timestep/MAX_TIMESTEPS * 100 % 10 == 0:\n",
    "        # Every 0.1 t/T intervals, add the image to the display so that we can look at it later.\n",
    "        display.append(slightly_less_noisy)\n",
    "\n",
    "        t_T_label += str(format(timestep/MAX_TIMESTEPS, '.1f'))\n",
    "\n",
    "        t_T_label += ', '\n",
    "\n",
    "    noised_image = slightly_less_noisy\n",
    "\n",
    "display.append(noised_image)\n",
    "\n",
    "t_T_label += str(format(1/MAX_TIMESTEPS, '.1f'))\n",
    "\n",
    "display_tensor = torch.cat(display, dim=0)\n",
    "\n",
    "print(t_T_label)\n",
    "display_batch(display_tensor, min=-1, max=1)"
   ]
  },
  {
   "cell_type": "markdown",
   "metadata": {},
   "source": [
    "As you can see, we do generate something, and the values of the image don't explode over time. However, what we have generated is not very good.\n",
    "\n",
    "There are many ways to improve this model:\n",
    "\n",
    "- Change the noise predictor architecture; the original diffusion models used other forms of embedding and also had transformer layers, which would improve the accuracy of the predictor model and thus also the reverse diffusion process overall. \n",
    "\n",
    "- Use a cosine schedule: Instead of training mostly on noisy images, change the schedule from linear to cosine to reduce how quickly the image gets noised. (WARNING: We've tried this notebook before with a cosine schedule, and the variance of the generated image \"explodes\". It seems like other people have also encountered this problem, see https://github.com/openai/improved-diffusion/issues/105)"
   ]
  },
  {
   "cell_type": "markdown",
   "metadata": {},
   "source": [
    "# Sources and Further reading\n",
    "\n",
    "The following articles simplify the original paper and were helpful for us with making our model:\n",
    "\n",
    "- [Step by Step visual introduction to Diffusion Models by Kemal Erdem](https://erdem.pl/2023/11/step-by-step-visual-introduction-to-diffusion-models)\n",
    "- [The Annotated Diffusion Model Niels Rogge and Kashif Rasul on HF](https://huggingface.co/blog/annotated-diffusion)\n",
    "\n",
    "The papers are of course helpful if you understand the math:\n",
    "- [Deep Unsupervised Learning using Nonequilibrium Thermodynamics by Sohl-Dickstein et al.](https://arxiv.org/abs/1503.03585): Introduced the concepts of diffusion\n",
    "- [Denoising Diffusion Probabilistic Models by Ho et al.](https://arxiv.org/abs/2006.11239): Provides the basis for implementing diffusion models \n",
    "- [High-Resolution Image Synthesis with Latent Diffusion Models by Rombach et al.](https://arxiv.org/abs/2112.10752): Improves on diffusion models by keeping everything in the \"latent space\"; iirc works on embeddings instead of entire images, so it's faster\n",
    "- [Improved Denoising Diffusion Probabilistic Models by Nicol and Dhariwal](https://arxiv.org/abs/2102.09672): Introduces the cosine schedule used here as well as other improvements"
   ]
  }
 ],
 "metadata": {
  "accelerator": "GPU",
  "colab": {
   "gpuType": "T4",
   "provenance": []
  },
  "kaggle": {
   "accelerator": "none",
   "dataSources": [
    {
     "isSourceIdPinned": true,
     "modelInstanceId": 44334,
     "sourceId": 52788,
     "sourceType": "modelInstanceVersion"
    },
    {
     "isSourceIdPinned": true,
     "modelInstanceId": 44335,
     "sourceId": 52790,
     "sourceType": "modelInstanceVersion"
    },
    {
     "isSourceIdPinned": true,
     "modelInstanceId": 44769,
     "sourceId": 53357,
     "sourceType": "modelInstanceVersion"
    },
    {
     "isSourceIdPinned": true,
     "modelInstanceId": 44778,
     "sourceId": 53368,
     "sourceType": "modelInstanceVersion"
    }
   ],
   "dockerImageVersionId": 30699,
   "isGpuEnabled": false,
   "isInternetEnabled": true,
   "language": "python",
   "sourceType": "notebook"
  },
  "kernelspec": {
   "display_name": "pytorchMLBase",
   "language": "python",
   "name": "python3"
  },
  "language_info": {
   "codemirror_mode": {
    "name": "ipython",
    "version": 3
   },
   "file_extension": ".py",
   "mimetype": "text/x-python",
   "name": "python",
   "nbconvert_exporter": "python",
   "pygments_lexer": "ipython3",
   "version": "3.9.16"
  }
 },
 "nbformat": 4,
 "nbformat_minor": 4
}
