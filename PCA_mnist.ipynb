{
 "cells": [
  {
   "cell_type": "code",
   "execution_count": 27,
   "id": "buried-nitrogen",
   "metadata": {},
   "outputs": [],
   "source": [
    "import matplotlib.pyplot as plt\n",
    "import pandas as pd\n",
    "import numpy as np\n",
    "# Import datasets, classifiers and performance metrics\n",
    "from sklearn import datasets, svm, metrics\n",
    "from sklearn.model_selection import train_test_split\n",
    "from sklearn.pipeline import Pipeline\n",
    "from sklearn.decomposition import PCA"
   ]
  },
  {
   "cell_type": "code",
   "execution_count": 28,
   "id": "annual-semester",
   "metadata": {
    "scrolled": true
   },
   "outputs": [
    {
     "data": {
      "text/html": [
       "<div>\n",
       "<style scoped>\n",
       "    .dataframe tbody tr th:only-of-type {\n",
       "        vertical-align: middle;\n",
       "    }\n",
       "\n",
       "    .dataframe tbody tr th {\n",
       "        vertical-align: top;\n",
       "    }\n",
       "\n",
       "    .dataframe thead th {\n",
       "        text-align: right;\n",
       "    }\n",
       "</style>\n",
       "<table border=\"1\" class=\"dataframe\">\n",
       "  <thead>\n",
       "    <tr style=\"text-align: right;\">\n",
       "      <th></th>\n",
       "      <th>label</th>\n",
       "      <th>pixel0</th>\n",
       "      <th>pixel1</th>\n",
       "      <th>pixel2</th>\n",
       "      <th>pixel3</th>\n",
       "      <th>pixel4</th>\n",
       "      <th>pixel5</th>\n",
       "      <th>pixel6</th>\n",
       "      <th>pixel7</th>\n",
       "      <th>pixel8</th>\n",
       "      <th>...</th>\n",
       "      <th>pixel774</th>\n",
       "      <th>pixel775</th>\n",
       "      <th>pixel776</th>\n",
       "      <th>pixel777</th>\n",
       "      <th>pixel778</th>\n",
       "      <th>pixel779</th>\n",
       "      <th>pixel780</th>\n",
       "      <th>pixel781</th>\n",
       "      <th>pixel782</th>\n",
       "      <th>pixel783</th>\n",
       "    </tr>\n",
       "  </thead>\n",
       "  <tbody>\n",
       "    <tr>\n",
       "      <th>0</th>\n",
       "      <td>1</td>\n",
       "      <td>0</td>\n",
       "      <td>0</td>\n",
       "      <td>0</td>\n",
       "      <td>0</td>\n",
       "      <td>0</td>\n",
       "      <td>0</td>\n",
       "      <td>0</td>\n",
       "      <td>0</td>\n",
       "      <td>0</td>\n",
       "      <td>...</td>\n",
       "      <td>0</td>\n",
       "      <td>0</td>\n",
       "      <td>0</td>\n",
       "      <td>0</td>\n",
       "      <td>0</td>\n",
       "      <td>0</td>\n",
       "      <td>0</td>\n",
       "      <td>0</td>\n",
       "      <td>0</td>\n",
       "      <td>0</td>\n",
       "    </tr>\n",
       "    <tr>\n",
       "      <th>1</th>\n",
       "      <td>0</td>\n",
       "      <td>0</td>\n",
       "      <td>0</td>\n",
       "      <td>0</td>\n",
       "      <td>0</td>\n",
       "      <td>0</td>\n",
       "      <td>0</td>\n",
       "      <td>0</td>\n",
       "      <td>0</td>\n",
       "      <td>0</td>\n",
       "      <td>...</td>\n",
       "      <td>0</td>\n",
       "      <td>0</td>\n",
       "      <td>0</td>\n",
       "      <td>0</td>\n",
       "      <td>0</td>\n",
       "      <td>0</td>\n",
       "      <td>0</td>\n",
       "      <td>0</td>\n",
       "      <td>0</td>\n",
       "      <td>0</td>\n",
       "    </tr>\n",
       "    <tr>\n",
       "      <th>2</th>\n",
       "      <td>1</td>\n",
       "      <td>0</td>\n",
       "      <td>0</td>\n",
       "      <td>0</td>\n",
       "      <td>0</td>\n",
       "      <td>0</td>\n",
       "      <td>0</td>\n",
       "      <td>0</td>\n",
       "      <td>0</td>\n",
       "      <td>0</td>\n",
       "      <td>...</td>\n",
       "      <td>0</td>\n",
       "      <td>0</td>\n",
       "      <td>0</td>\n",
       "      <td>0</td>\n",
       "      <td>0</td>\n",
       "      <td>0</td>\n",
       "      <td>0</td>\n",
       "      <td>0</td>\n",
       "      <td>0</td>\n",
       "      <td>0</td>\n",
       "    </tr>\n",
       "    <tr>\n",
       "      <th>3</th>\n",
       "      <td>4</td>\n",
       "      <td>0</td>\n",
       "      <td>0</td>\n",
       "      <td>0</td>\n",
       "      <td>0</td>\n",
       "      <td>0</td>\n",
       "      <td>0</td>\n",
       "      <td>0</td>\n",
       "      <td>0</td>\n",
       "      <td>0</td>\n",
       "      <td>...</td>\n",
       "      <td>0</td>\n",
       "      <td>0</td>\n",
       "      <td>0</td>\n",
       "      <td>0</td>\n",
       "      <td>0</td>\n",
       "      <td>0</td>\n",
       "      <td>0</td>\n",
       "      <td>0</td>\n",
       "      <td>0</td>\n",
       "      <td>0</td>\n",
       "    </tr>\n",
       "    <tr>\n",
       "      <th>4</th>\n",
       "      <td>0</td>\n",
       "      <td>0</td>\n",
       "      <td>0</td>\n",
       "      <td>0</td>\n",
       "      <td>0</td>\n",
       "      <td>0</td>\n",
       "      <td>0</td>\n",
       "      <td>0</td>\n",
       "      <td>0</td>\n",
       "      <td>0</td>\n",
       "      <td>...</td>\n",
       "      <td>0</td>\n",
       "      <td>0</td>\n",
       "      <td>0</td>\n",
       "      <td>0</td>\n",
       "      <td>0</td>\n",
       "      <td>0</td>\n",
       "      <td>0</td>\n",
       "      <td>0</td>\n",
       "      <td>0</td>\n",
       "      <td>0</td>\n",
       "    </tr>\n",
       "  </tbody>\n",
       "</table>\n",
       "<p>5 rows × 785 columns</p>\n",
       "</div>"
      ],
      "text/plain": [
       "   label  pixel0  pixel1  pixel2  pixel3  pixel4  pixel5  pixel6  pixel7  \\\n",
       "0      1       0       0       0       0       0       0       0       0   \n",
       "1      0       0       0       0       0       0       0       0       0   \n",
       "2      1       0       0       0       0       0       0       0       0   \n",
       "3      4       0       0       0       0       0       0       0       0   \n",
       "4      0       0       0       0       0       0       0       0       0   \n",
       "\n",
       "   pixel8  ...  pixel774  pixel775  pixel776  pixel777  pixel778  pixel779  \\\n",
       "0       0  ...         0         0         0         0         0         0   \n",
       "1       0  ...         0         0         0         0         0         0   \n",
       "2       0  ...         0         0         0         0         0         0   \n",
       "3       0  ...         0         0         0         0         0         0   \n",
       "4       0  ...         0         0         0         0         0         0   \n",
       "\n",
       "   pixel780  pixel781  pixel782  pixel783  \n",
       "0         0         0         0         0  \n",
       "1         0         0         0         0  \n",
       "2         0         0         0         0  \n",
       "3         0         0         0         0  \n",
       "4         0         0         0         0  \n",
       "\n",
       "[5 rows x 785 columns]"
      ]
     },
     "execution_count": 28,
     "metadata": {},
     "output_type": "execute_result"
    }
   ],
   "source": [
    "dfTrain = pd.read_csv('MNIST_train.csv')\n",
    "dfTrain.head()"
   ]
  },
  {
   "cell_type": "code",
   "execution_count": 3,
   "id": "consolidated-operator",
   "metadata": {},
   "outputs": [
    {
     "data": {
      "text/plain": [
       "array([1, 0, 1, ..., 7, 6, 9])"
      ]
     },
     "execution_count": 3,
     "metadata": {},
     "output_type": "execute_result"
    }
   ],
   "source": [
    "y = dfTrain['label'].values.flatten() \n",
    "y"
   ]
  },
  {
   "cell_type": "code",
   "execution_count": 4,
   "id": "champion-tobacco",
   "metadata": {
    "scrolled": true
   },
   "outputs": [],
   "source": [
    "x = dfTrain.drop(['label'],axis=1).values"
   ]
  },
  {
   "cell_type": "code",
   "execution_count": 5,
   "id": "treated-vermont",
   "metadata": {},
   "outputs": [],
   "source": [
    "def display(x, y):\n",
    "    _, axes = plt.subplots(nrows=2, ncols=5, figsize=(12, 8))\n",
    "    for ax, image, label in zip(axes.ravel(), x, y):\n",
    "        ax.imshow(image.reshape(28, 28), cmap=plt.cm.gray)\n",
    "        ax.set_title(\"Training: %i\" % label)"
   ]
  },
  {
   "cell_type": "code",
   "execution_count": 6,
   "id": "bizarre-kingdom",
   "metadata": {},
   "outputs": [],
   "source": [
    "X_train,X_test, y_train, y_test = train_test_split(x,y,test_size=0.5)"
   ]
  },
  {
   "cell_type": "code",
   "execution_count": 7,
   "id": "vocal-breach",
   "metadata": {},
   "outputs": [
    {
     "data": {
      "image/png": "[encoded data removed]",
      "text/plain": [
       "<Figure size 864x576 with 10 Axes>"
      ]
     },
     "metadata": {
      "needs_background": "light"
     },
     "output_type": "display_data"
    }
   ],
   "source": [
    "display(X_train, y_train)"
   ]
  },
  {
   "cell_type": "code",
   "execution_count": 11,
   "id": "welsh-evans",
   "metadata": {},
   "outputs": [
    {
     "name": "stdout",
     "output_type": "stream",
     "text": [
      "CPU times: user 38.5 s, sys: 234 ms, total: 38.7 s\n",
      "Wall time: 38.9 s\n"
     ]
    },
    {
     "data": {
      "text/plain": [
       "SVC()"
      ]
     },
     "execution_count": 11,
     "metadata": {},
     "output_type": "execute_result"
    }
   ],
   "source": [
    "svm_clf = svm.SVC()\n",
    "%time svm_clf.fit(X_train, y_train)"
   ]
  },
  {
   "cell_type": "code",
   "execution_count": 12,
   "id": "capital-radiation",
   "metadata": {},
   "outputs": [
    {
     "name": "stdout",
     "output_type": "stream",
     "text": [
      "CPU times: user 1min 10s, sys: 235 ms, total: 1min 10s\n",
      "Wall time: 1min 10s\n"
     ]
    }
   ],
   "source": [
    "%time predicted = svm_clf.predict(X_test)"
   ]
  },
  {
   "cell_type": "code",
   "execution_count": 13,
   "id": "compact-robin",
   "metadata": {
    "scrolled": true
   },
   "outputs": [
    {
     "name": "stdout",
     "output_type": "stream",
     "text": [
      "              precision    recall  f1-score   support\n",
      "\n",
      "           0       0.98      0.99      0.98      2114\n",
      "           1       0.98      0.99      0.98      2341\n",
      "           2       0.97      0.97      0.97      2100\n",
      "           3       0.96      0.96      0.96      2164\n",
      "           4       0.96      0.98      0.97      2029\n",
      "           5       0.97      0.96      0.96      1888\n",
      "           6       0.98      0.98      0.98      2085\n",
      "           7       0.97      0.97      0.97      2154\n",
      "           8       0.96      0.96      0.96      2077\n",
      "           9       0.96      0.95      0.96      2048\n",
      "\n",
      "    accuracy                           0.97     21000\n",
      "   macro avg       0.97      0.97      0.97     21000\n",
      "weighted avg       0.97      0.97      0.97     21000\n",
      "\n"
     ]
    }
   ],
   "source": [
    "print(metrics.classification_report(y_test, predicted))"
   ]
  },
  {
   "cell_type": "code",
   "execution_count": 14,
   "id": "animal-postage",
   "metadata": {
    "scrolled": true
   },
   "outputs": [
    {
     "data": {
      "text/plain": [
       "array([0.09711034, 0.16928497, 0.23117709, 0.28450935, 0.33282256,\n",
       "       0.37536083, 0.40842159, 0.43736494, 0.46512081, 0.48872962,\n",
       "       0.50973477, 0.53028813, 0.54745533, 0.56447733, 0.58026818,\n",
       "       0.59500411, 0.60805031, 0.62100383, 0.63292876, 0.64449839,\n",
       "       0.65514725, 0.6652499 , 0.67481011, 0.6839533 , 0.6928635 ,\n",
       "       0.70124043, 0.7093415 , 0.71703915, 0.72441349, 0.73128391,\n",
       "       0.73787641, 0.74428056, 0.75027239, 0.75621507, 0.7618746 ,\n",
       "       0.76738654, 0.7725538 , 0.77746498, 0.78225854, 0.78690431,\n",
       "       0.79141204, 0.79584663, 0.80006937, 0.80408683, 0.80792124,\n",
       "       0.81168048, 0.81531653, 0.81879194, 0.82217073, 0.82537541,\n",
       "       0.82855737, 0.83166271, 0.83461905, 0.83745828, 0.840259  ,\n",
       "       0.84295113, 0.8456053 , 0.84816299, 0.85069384, 0.85317455,\n",
       "       0.85560156, 0.85800088, 0.86027314, 0.86252515, 0.86467116,\n",
       "       0.86675545, 0.86880626, 0.87075746, 0.87270057, 0.87457064,\n",
       "       0.87643134, 0.87824762, 0.88001595, 0.8817381 , 0.8834169 ,\n",
       "       0.8850533 , 0.88665319, 0.88818448, 0.88965446, 0.89109262,\n",
       "       0.89250631, 0.89390637, 0.89529261, 0.8966589 , 0.89799305,\n",
       "       0.89931364, 0.90061077, 0.90186601, 0.90308885, 0.90429145,\n",
       "       0.90546023, 0.90661143, 0.90774983, 0.90886093, 0.90994507,\n",
       "       0.91102237, 0.91206713, 0.91309784, 0.91411116, 0.9151099 ,\n",
       "       0.91608293, 0.91703646, 0.91798047, 0.91889159, 0.91979022,\n",
       "       0.92067919, 0.92153268, 0.92237879, 0.92321241, 0.92403205,\n",
       "       0.92482229, 0.92560862, 0.926393  , 0.92716754, 0.92792332,\n",
       "       0.92867308, 0.92941077, 0.93013522, 0.93084801, 0.93155618,\n",
       "       0.9322543 , 0.93294409, 0.9336217 , 0.93428854, 0.93494582,\n",
       "       0.93559183, 0.93623052, 0.93686291, 0.93748222, 0.93809149,\n",
       "       0.93869431, 0.93928418, 0.93987304, 0.94045837, 0.94102695,\n",
       "       0.94159323, 0.94215363, 0.94270829, 0.94324713, 0.94377195,\n",
       "       0.9442947 , 0.94481072, 0.94532091, 0.94582419, 0.94632252,\n",
       "       0.94681825, 0.94730921, 0.94778676, 0.94826185, 0.94873444,\n",
       "       0.94919489, 0.94965522, 0.95010907, 0.95055841, 0.95100218,\n",
       "       0.95144469, 0.95187895, 0.95230283, 0.95272152, 0.95313944,\n",
       "       0.95354989, 0.95395872, 0.95435998, 0.95475673, 0.95514952,\n",
       "       0.95553827, 0.95592037, 0.95630083, 0.95667452, 0.9570458 ,\n",
       "       0.95741194, 0.95777538, 0.95813694, 0.95849127, 0.95884449,\n",
       "       0.95919452, 0.95954206, 0.95988513, 0.96022773, 0.96056811,\n",
       "       0.96090236, 0.9612325 , 0.9615593 , 0.96188334, 0.96220508,\n",
       "       0.96252458, 0.96284341, 0.96315983, 0.9634735 , 0.96378325,\n",
       "       0.9640922 , 0.96439603, 0.96469637, 0.96499438, 0.96529032,\n",
       "       0.96558467, 0.96587697, 0.96616577, 0.96645334, 0.96673694,\n",
       "       0.96701736, 0.96729346, 0.96756724, 0.9678409 , 0.96810903,\n",
       "       0.96837495, 0.96863882, 0.96890003, 0.96916079, 0.96941917,\n",
       "       0.96967498, 0.96992951, 0.97018215, 0.97043346, 0.97068108,\n",
       "       0.97092835, 0.97117402, 0.97141863, 0.97166088, 0.97190182,\n",
       "       0.97214077, 0.97237754, 0.97261337, 0.97284706, 0.97307767,\n",
       "       0.97330791, 0.97353696, 0.97376363, 0.97398845, 0.97421153,\n",
       "       0.97443219, 0.97465183, 0.97486887, 0.97508507, 0.97530075,\n",
       "       0.97551528, 0.97572775, 0.9759393 , 0.97614707, 0.97635335,\n",
       "       0.97655604, 0.97675779, 0.97695811, 0.97715752, 0.97735445,\n",
       "       0.97755124, 0.97774701, 0.97794232, 0.97813643, 0.97832841,\n",
       "       0.97851958, 0.97870924, 0.9788962 , 0.97908149, 0.97926574,\n",
       "       0.97944917, 0.97963171, 0.97981366, 0.9799939 , 0.98017238,\n",
       "       0.98034942, 0.98052473, 0.98069887, 0.98087188, 0.98104425,\n",
       "       0.9812147 , 0.98138407, 0.98155301, 0.98172115, 0.98188747,\n",
       "       0.98205278, 0.98221694, 0.98237975, 0.98254221, 0.98270426,\n",
       "       0.9828646 , 0.9830234 , 0.98318105, 0.98333844, 0.98349535,\n",
       "       0.98365009, 0.98380387, 0.98395589, 0.9841073 , 0.98425739,\n",
       "       0.98440647, 0.98455425, 0.98470132, 0.98484674, 0.98499113,\n",
       "       0.98513476, 0.98527696, 0.98541849, 0.98555925, 0.98569953,\n",
       "       0.98583843, 0.98597586, 0.98611196, 0.98624683, 0.98638096,\n",
       "       0.98651469, 0.98664705, 0.98677894, 0.98691019, 0.98704044,\n",
       "       0.98716907, 0.98729751, 0.98742548, 0.98755193, 0.98767835,\n",
       "       0.98780357, 0.9879283 , 0.98805148, 0.98817414, 0.98829558,\n",
       "       0.98841667, 0.9885365 , 0.98865591, 0.98877453, 0.98889191,\n",
       "       0.98900871, 0.98912459, 0.98923927, 0.9893531 , 0.98946619,\n",
       "       0.98957912, 0.98968976, 0.98979925, 0.98990848, 0.99001675,\n",
       "       0.99012469, 0.9902325 , 0.99033851, 0.99044407, 0.9905495 ,\n",
       "       0.99065369, 0.99075719, 0.99086029, 0.99096203, 0.99106279,\n",
       "       0.99116236, 0.99126166, 0.99136035, 0.99145836, 0.99155594,\n",
       "       0.99165339, 0.99175004, 0.99184531, 0.99193914, 0.99203245,\n",
       "       0.99212448, 0.99221611, 0.99230744, 0.99239782, 0.99248753,\n",
       "       0.99257661, 0.9926653 , 0.99275313, 0.99284024, 0.99292656,\n",
       "       0.99301251, 0.99309737, 0.99318191, 0.99326607, 0.99334957,\n",
       "       0.99343261, 0.99351502, 0.99359698, 0.99367784, 0.99375775,\n",
       "       0.99383675, 0.99391514, 0.99399266, 0.99406993, 0.99414696,\n",
       "       0.99422256, 0.99429777, 0.99437246, 0.99444657, 0.99451978,\n",
       "       0.99459243, 0.9946648 , 0.99473648, 0.99480735, 0.9948779 ,\n",
       "       0.99494704, 0.99501541, 0.99508238, 0.99514896, 0.99521454,\n",
       "       0.99527994, 0.99534522, 0.99540989, 0.9954738 , 0.99553612,\n",
       "       0.99559795, 0.9956586 , 0.99571887, 0.99577861, 0.99583741,\n",
       "       0.9958954 , 0.99595296, 0.99601024, 0.99606687, 0.99612276,\n",
       "       0.99617837, 0.99623336, 0.99628782, 0.99634171, 0.99639459,\n",
       "       0.99644728, 0.99649977, 0.99655194, 0.99660332, 0.9966545 ,\n",
       "       0.99670487, 0.99675488, 0.99680382, 0.99685265, 0.99690075,\n",
       "       0.99694817, 0.99699474, 0.99704078, 0.99708657, 0.99713115,\n",
       "       0.99717521, 0.99721835, 0.99726127, 0.99730402, 0.99734641,\n",
       "       0.99738802, 0.99742915, 0.99746989, 0.99751018, 0.99754953,\n",
       "       0.99758814, 0.99762647, 0.99766425, 0.99770157, 0.9977383 ,\n",
       "       0.99777478, 0.99781055, 0.9978459 , 0.99788086, 0.9979157 ,\n",
       "       0.99794977, 0.99798361, 0.99801682, 0.99804985, 0.99808261,\n",
       "       0.99811459, 0.99814621, 0.99817711, 0.99820784, 0.9982382 ,\n",
       "       0.99826819, 0.99829737, 0.99832648, 0.9983555 , 0.9983839 ,\n",
       "       0.99841144, 0.99843873, 0.99846582, 0.99849264, 0.9985192 ,\n",
       "       0.9985454 , 0.99857143, 0.99859705, 0.99862254, 0.99864756,\n",
       "       0.99867244, 0.99869667, 0.99872069, 0.99874432, 0.9987675 ,\n",
       "       0.99879052, 0.99881311, 0.99883511, 0.99885688, 0.99887843,\n",
       "       0.99889951, 0.99892042, 0.99894087, 0.99896118, 0.99898082,\n",
       "       0.99900008, 0.99901919, 0.99903796, 0.99905653, 0.99907474,\n",
       "       0.99909269, 0.99911044, 0.99912797, 0.99914511, 0.99916194,\n",
       "       0.99917848, 0.99919448, 0.99921014, 0.99922578, 0.99924109,\n",
       "       0.99925624, 0.99927124, 0.99928602, 0.9993007 , 0.99931512,\n",
       "       0.99932933, 0.99934341, 0.99935719, 0.99937068, 0.99938384,\n",
       "       0.99939689, 0.99940992, 0.99942234, 0.9994347 , 0.99944689,\n",
       "       0.99945906, 0.9994711 , 0.99948291, 0.99949459, 0.9995062 ,\n",
       "       0.9995175 , 0.99952847, 0.99953921, 0.99954987, 0.99956042,\n",
       "       0.99957062, 0.99958068, 0.99959055, 0.99960016, 0.99960967,\n",
       "       0.99961884, 0.99962798, 0.99963696, 0.99964584, 0.99965441,\n",
       "       0.99966283, 0.99967121, 0.99967942, 0.99968758, 0.99969556,\n",
       "       0.99970318, 0.99971066, 0.99971803, 0.99972533, 0.99973254,\n",
       "       0.99973956, 0.99974615, 0.99975266, 0.99975904, 0.99976537,\n",
       "       0.99977152, 0.99977754, 0.99978335, 0.99978909, 0.99979471,\n",
       "       0.99980025, 0.99980568, 0.99981101, 0.99981621, 0.99982128,\n",
       "       0.99982628, 0.99983127, 0.99983604, 0.99984068, 0.99984525,\n",
       "       0.99984977, 0.99985414, 0.99985826, 0.99986214, 0.99986597,\n",
       "       0.99986971, 0.99987342, 0.99987708, 0.99988067, 0.99988412,\n",
       "       0.99988742, 0.9998907 , 0.99989392, 0.99989707, 0.99990016,\n",
       "       0.99990322, 0.99990626, 0.99990925, 0.99991206, 0.99991483,\n",
       "       0.99991754, 0.99992019, 0.99992283, 0.99992541, 0.99992788,\n",
       "       0.9999303 , 0.99993271, 0.99993507, 0.9999374 , 0.9999396 ,\n",
       "       0.99994177, 0.99994394, 0.99994604, 0.999948  , 0.99994989,\n",
       "       0.99995174, 0.99995359, 0.99995538, 0.99995712, 0.99995883,\n",
       "       0.99996046, 0.99996206, 0.99996362, 0.99996516, 0.99996669,\n",
       "       0.99996817, 0.99996945, 0.99997071, 0.99997187, 0.99997301,\n",
       "       0.99997412, 0.99997522, 0.99997631, 0.99997739, 0.99997839,\n",
       "       0.99997939, 0.99998037, 0.9999813 , 0.99998217, 0.99998303,\n",
       "       0.99998388, 0.99998469, 0.99998546, 0.9999862 , 0.99998693,\n",
       "       0.99998764, 0.99998836, 0.99998906, 0.99998971, 0.99999035,\n",
       "       0.99999098, 0.99999157, 0.99999211, 0.99999262, 0.99999311,\n",
       "       0.99999359, 0.99999405, 0.99999445, 0.99999478, 0.99999511,\n",
       "       0.99999544, 0.99999575, 0.99999606, 0.99999633, 0.99999659,\n",
       "       0.99999685, 0.9999971 , 0.99999733, 0.99999754, 0.99999774,\n",
       "       0.99999793, 0.99999811, 0.99999829, 0.99999846, 0.99999861,\n",
       "       0.99999875, 0.99999886, 0.99999897, 0.99999907, 0.99999916,\n",
       "       0.99999925, 0.99999933, 0.99999941, 0.99999948, 0.99999954,\n",
       "       0.9999996 , 0.99999966, 0.9999997 , 0.99999974, 0.99999978,\n",
       "       0.99999982, 0.99999985, 0.99999988, 0.99999991, 0.99999993,\n",
       "       0.99999995, 0.99999996, 0.99999997, 0.99999998, 0.99999999,\n",
       "       0.99999999, 1.        , 1.        , 1.        , 1.        ,\n",
       "       1.        , 1.        , 1.        , 1.        , 1.        ,\n",
       "       1.        , 1.        , 1.        , 1.        , 1.        ,\n",
       "       1.        , 1.        , 1.        , 1.        , 1.        ,\n",
       "       1.        , 1.        , 1.        , 1.        , 1.        ,\n",
       "       1.        , 1.        , 1.        , 1.        , 1.        ,\n",
       "       1.        , 1.        , 1.        , 1.        , 1.        ,\n",
       "       1.        , 1.        , 1.        , 1.        , 1.        ,\n",
       "       1.        , 1.        , 1.        , 1.        , 1.        ,\n",
       "       1.        , 1.        , 1.        , 1.        , 1.        ,\n",
       "       1.        , 1.        , 1.        , 1.        , 1.        ,\n",
       "       1.        , 1.        , 1.        , 1.        , 1.        ,\n",
       "       1.        , 1.        , 1.        , 1.        , 1.        ,\n",
       "       1.        , 1.        , 1.        , 1.        , 1.        ,\n",
       "       1.        , 1.        , 1.        , 1.        , 1.        ,\n",
       "       1.        , 1.        , 1.        , 1.        , 1.        ,\n",
       "       1.        , 1.        , 1.        , 1.        , 1.        ,\n",
       "       1.        , 1.        , 1.        , 1.        , 1.        ,\n",
       "       1.        , 1.        , 1.        , 1.        , 1.        ,\n",
       "       1.        , 1.        , 1.        , 1.        ])"
      ]
     },
     "execution_count": 14,
     "metadata": {},
     "output_type": "execute_result"
    }
   ],
   "source": [
    "cum_pca = PCA(n_components=28*28)\n",
    "cum_pca.fit(X_train)\n",
    "cumsum = np.cumsum(cum_pca.explained_variance_ratio_)\n",
    "cumsum"
   ]
  },
  {
   "cell_type": "code",
   "execution_count": 15,
   "id": "medium-notification",
   "metadata": {},
   "outputs": [
    {
     "data": {
      "text/plain": [
       "153"
      ]
     },
     "execution_count": 15,
     "metadata": {},
     "output_type": "execute_result"
    }
   ],
   "source": [
    "d = np.argmax(cumsum >= 0.95) + 1\n",
    "d"
   ]
  },
  {
   "cell_type": "code",
   "execution_count": 16,
   "id": "talented-peninsula",
   "metadata": {},
   "outputs": [
    {
     "data": {
      "text/plain": [
       "[<matplotlib.lines.Line2D at 0x14674a880>]"
      ]
     },
     "execution_count": 16,
     "metadata": {},
     "output_type": "execute_result"
    },
    {
     "data": {
      "image/png": "[encoded data removed]",
      "text/plain": [
       "<Figure size 432x288 with 1 Axes>"
      ]
     },
     "metadata": {
      "needs_background": "light"
     },
     "output_type": "display_data"
    }
   ],
   "source": [
    "plt.plot(cumsum)"
   ]
  },
  {
   "cell_type": "code",
   "execution_count": 22,
   "id": "specific-necessity",
   "metadata": {},
   "outputs": [],
   "source": [
    "pca = PCA(n_components=20)\n",
    "x_reduced = pca.fit_transform(X_train)\n",
    "x_recovered = pca.inverse_transform(x_reduced)"
   ]
  },
  {
   "cell_type": "code",
   "execution_count": 23,
   "id": "activated-administrator",
   "metadata": {
    "scrolled": true
   },
   "outputs": [
    {
     "data": {
      "image/png": "[encoded data removed]",
      "text/plain": [
       "<Figure size 864x576 with 10 Axes>"
      ]
     },
     "metadata": {
      "needs_background": "light"
     },
     "output_type": "display_data"
    }
   ],
   "source": [
    "display(x_recovered, y_train)"
   ]
  },
  {
   "cell_type": "code",
   "execution_count": 24,
   "id": "cultural-nebraska",
   "metadata": {
    "scrolled": true
   },
   "outputs": [
    {
     "name": "stdout",
     "output_type": "stream",
     "text": [
      "CPU times: user 5.83 s, sys: 631 ms, total: 6.46 s\n",
      "Wall time: 1.86 s\n"
     ]
    },
    {
     "data": {
      "text/plain": [
       "Pipeline(steps=[('pca', PCA(n_components=10)), ('svc', SVC())])"
      ]
     },
     "execution_count": 24,
     "metadata": {},
     "output_type": "execute_result"
    }
   ],
   "source": [
    "pcasvm_clf = Pipeline([\n",
    "        (\"pca\", PCA(n_components=20)),\n",
    "        (\"svc\", svm.SVC())\n",
    "    ])\n",
    "\n",
    "%time pcasvm_clf.fit(X_train, y_train)"
   ]
  },
  {
   "cell_type": "code",
   "execution_count": 25,
   "id": "efficient-iceland",
   "metadata": {},
   "outputs": [
    {
     "name": "stdout",
     "output_type": "stream",
     "text": [
      "CPU times: user 6.26 s, sys: 519 ms, total: 6.78 s\n",
      "Wall time: 5.67 s\n"
     ]
    }
   ],
   "source": [
    "# Predict the value of the digit on the test subset\n",
    "%time predicted_svc_pca = pcasvm_clf.predict(X_test)"
   ]
  },
  {
   "cell_type": "code",
   "execution_count": 26,
   "id": "pressed-health",
   "metadata": {},
   "outputs": [
    {
     "name": "stdout",
     "output_type": "stream",
     "text": [
      "              precision    recall  f1-score   support\n",
      "\n",
      "           0       0.96      0.96      0.96      2114\n",
      "           1       0.98      0.98      0.98      2341\n",
      "           2       0.93      0.95      0.94      2100\n",
      "           3       0.91      0.90      0.90      2164\n",
      "           4       0.92      0.89      0.91      2029\n",
      "           5       0.91      0.92      0.92      1888\n",
      "           6       0.95      0.97      0.96      2085\n",
      "           7       0.96      0.94      0.95      2154\n",
      "           8       0.90      0.90      0.90      2077\n",
      "           9       0.87      0.88      0.87      2048\n",
      "\n",
      "    accuracy                           0.93     21000\n",
      "   macro avg       0.93      0.93      0.93     21000\n",
      "weighted avg       0.93      0.93      0.93     21000\n",
      "\n"
     ]
    }
   ],
   "source": [
    "print(metrics.classification_report(y_test, predicted_svc_pca))"
   ]
  }
 ],
 "metadata": {
  "kernelspec": {
   "display_name": "Python 3",
   "language": "python",
   "name": "python3"
  },
  "language_info": {
   "codemirror_mode": {
    "name": "ipython",
    "version": 3
   },
   "file_extension": ".py",
   "mimetype": "text/x-python",
   "name": "python",
   "nbconvert_exporter": "python",
   "pygments_lexer": "ipython3",
   "version": "3.9.2"
  }
 },
 "nbformat": 4,
 "nbformat_minor": 5
}
